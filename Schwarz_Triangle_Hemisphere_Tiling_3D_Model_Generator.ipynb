{
  "nbformat": 4,
  "nbformat_minor": 0,
  "metadata": {
    "colab": {
      "provenance": []
    },
    "kernelspec": {
      "name": "python3",
      "display_name": "Python 3"
    },
    "language_info": {
      "name": "python"
    }
  },
  "cells": [
    {
      "cell_type": "markdown",
      "source": [
        "#Setup"
      ],
      "metadata": {
        "id": "naSnzSGgtK96"
      }
    },
    {
      "cell_type": "code",
      "source": [
        "!pip install -r requirements.txt"
      ],
      "metadata": {
        "id": "dEsMWD64uIFO"
      },
      "execution_count": null,
      "outputs": []
    },
    {
      "cell_type": "code",
      "execution_count": null,
      "metadata": {
        "id": "n9N9i6dsrrmA"
      },
      "outputs": [],
      "source": [
        "import numpy as np\n",
        "from hemisphere_schwarz_modelgen import generate_hemisphere_tiling_model, validate_user_input"
      ]
    },
    {
      "cell_type": "markdown",
      "source": [
        "##User input\n"
      ],
      "metadata": {
        "id": "RXSO0aGhuiBh"
      }
    },
    {
      "cell_type": "markdown",
      "source": [
        "###Schwarz triangle\n",
        "Triple of integers $(p, q, r)$ greater or equal than 2 and fulfilling condition: $\\frac{1}{p}+\\frac{1}{q}+\\frac{1}{r}<1$."
      ],
      "metadata": {
        "id": "NQIoO6xOuy7G"
      }
    },
    {
      "cell_type": "code",
      "source": [
        "p, q, r = (7, 3, 2)"
      ],
      "metadata": {
        "id": "F2sbYCqAumKN"
      },
      "execution_count": 12,
      "outputs": []
    },
    {
      "cell_type": "markdown",
      "source": [
        "###Subdivision vlaue\n",
        "It is integer number how many times to subdivide the hemisphere mesh. Increasing the number the time of generating the tiling model grows exponentially. Suggested values are 8 or 9 with the approximate times of generating being respectively 30 s and 2 mins."
      ],
      "metadata": {
        "id": "vvnnW4h4vlti"
      }
    },
    {
      "cell_type": "code",
      "source": [
        "subdiv: int = 9"
      ],
      "metadata": {
        "id": "X3RHQKy5xNc1"
      },
      "execution_count": 6,
      "outputs": []
    },
    {
      "cell_type": "markdown",
      "source": [
        "###Vertices disks radiuses\n",
        "They are three float values determining hyperbolic radiuses of disks placed at the vertices p, q and r. In the tiling model all triangles will be connected with those disks."
      ],
      "metadata": {
        "id": "XYISxR_AxU4O"
      }
    },
    {
      "cell_type": "code",
      "source": [
        "p_vertex_radius: float = 0.1\n",
        "q_vertex_radius: float = 0.075\n",
        "r_vertex_radius: float = 0.075"
      ],
      "metadata": {
        "id": "BshpPAQNyTqA"
      },
      "execution_count": 7,
      "outputs": []
    },
    {
      "cell_type": "markdown",
      "source": [
        "###Sphere radius and thickness\n",
        "The sphere radius is the radius of the sphere, in mm, that's upper half is the hyperbolic model in which the tiling is generated in.\n",
        "\n",
        "The sphere thickness is the thickness of the walls of the 3D model in mm."
      ],
      "metadata": {
        "id": "ilGhkyZjyopj"
      }
    },
    {
      "cell_type": "code",
      "source": [
        "sphere_radius: float = 100\n",
        "sphere_thickness: float = 3"
      ],
      "metadata": {
        "id": "kkdsyZYazw4H"
      },
      "execution_count": 8,
      "outputs": []
    },
    {
      "cell_type": "markdown",
      "source": [
        "###Border height\n",
        "The border height determines height, in mm, of a band at the bottom of the hemisphere. This band will be solid and its purpose is to limit how far the triangles are generated, which are getting smaller when getting close to edge of the hemisphere."
      ],
      "metadata": {
        "id": "JSbPBJKez4QF"
      }
    },
    {
      "cell_type": "code",
      "source": [
        "border_height: float = 10"
      ],
      "metadata": {
        "id": "JZ9EY2lS08tQ"
      },
      "execution_count": 9,
      "outputs": []
    },
    {
      "cell_type": "markdown",
      "source": [
        "##Test inut"
      ],
      "metadata": {
        "id": "uV43qnaN1Paj"
      }
    },
    {
      "cell_type": "code",
      "source": [
        "validate_user_input(subdiv, (p,q,r), np.array([p_vertex_radius, q_vertex_radius, r_vertex_radius]), sphere_radius, sphere_thickness, border_height)"
      ],
      "metadata": {
        "id": "H0uUVGrK1T6C"
      },
      "execution_count": 13,
      "outputs": []
    },
    {
      "cell_type": "markdown",
      "source": [
        "#Generate model stl file"
      ],
      "metadata": {
        "id": "hb_5gxEs1b1g"
      }
    },
    {
      "cell_type": "code",
      "source": [
        "generate_hemisphere_tiling_model(subdiv, (p,q,r), np.array([p_vertex_radius, q_vertex_radius, r_vertex_radius]), sphere_radius, sphere_thickness, border_height)"
      ],
      "metadata": {
        "id": "jJJWOcxx1fjx"
      },
      "execution_count": 14,
      "outputs": []
    }
  ]
}